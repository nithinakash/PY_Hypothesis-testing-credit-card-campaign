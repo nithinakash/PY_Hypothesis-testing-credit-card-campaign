{
 "cells": [
  {
   "cell_type": "markdown",
   "id": "b77002eb",
   "metadata": {},
   "source": [
    "### Required Packages"
   ]
  },
  {
   "cell_type": "code",
   "execution_count": 4,
   "id": "89518a31",
   "metadata": {},
   "outputs": [],
   "source": [
    "import numpy as np\n",
    "import pandas as pd\n",
    "import matplotlib.pyplot as plt\n",
    "import seaborn as sns\n",
    "\n",
    "%matplotlib inline\n",
    "\n",
    "import scipy.stats as stats"
   ]
  },
  {
   "cell_type": "markdown",
   "id": "9903d771",
   "metadata": {},
   "source": [
    "### Datasets"
   ]
  },
  {
   "cell_type": "code",
   "execution_count": 6,
   "id": "ed68f69f",
   "metadata": {},
   "outputs": [],
   "source": [
    "df = pd.read_csv('C:/Users/Nithin/Downloads/Class 17 Python for Data Science (Self-paced) v4/cust_seg - 1627234027331.csv')"
   ]
  },
  {
   "cell_type": "code",
   "execution_count": 8,
   "id": "9e10a14c",
   "metadata": {},
   "outputs": [
    {
     "name": "stdout",
     "output_type": "stream",
     "text": [
      "<class 'pandas.core.frame.DataFrame'>\n",
      "RangeIndex: 200 entries, 0 to 199\n",
      "Data columns (total 10 columns):\n",
      " #   Column               Non-Null Count  Dtype  \n",
      "---  ------               --------------  -----  \n",
      " 0   custid               200 non-null    int64  \n",
      " 1   sex                  200 non-null    int64  \n",
      " 2   AqChannel            200 non-null    int64  \n",
      " 3   region               200 non-null    int64  \n",
      " 4   Marital_status       200 non-null    int64  \n",
      " 5   segment              200 non-null    int64  \n",
      " 6   pre_usage            200 non-null    int64  \n",
      " 7   Post_usage_1month    200 non-null    int64  \n",
      " 8   Latest_mon_usage     200 non-null    float64\n",
      " 9   post_usage_2ndmonth  200 non-null    float64\n",
      "dtypes: float64(2), int64(8)\n",
      "memory usage: 15.8 KB\n"
     ]
    }
   ],
   "source": [
    "df.info()"
   ]
  },
  {
   "cell_type": "code",
   "execution_count": 13,
   "id": "0f3e754d",
   "metadata": {},
   "outputs": [
    {
     "data": {
      "text/plain": [
       "custid                 200\n",
       "sex                      2\n",
       "AqChannel                4\n",
       "region                   3\n",
       "Marital_status           2\n",
       "segment                  3\n",
       "pre_usage               30\n",
       "Post_usage_1month       29\n",
       "Latest_mon_usage        40\n",
       "post_usage_2ndmonth     29\n",
       "dtype: int64"
      ]
     },
     "execution_count": 13,
     "metadata": {},
     "output_type": "execute_result"
    }
   ],
   "source": [
    "df.nunique()"
   ]
  },
  {
   "cell_type": "markdown",
   "id": "b4ca3677",
   "metadata": {},
   "source": [
    "### 1.\tCard usage has been improved significantly from last year usage which is 50. (Hint: Comparing card usage of post campaign of 1 month with last year hypothesized value 50)"
   ]
  },
  {
   "cell_type": "code",
   "execution_count": null,
   "id": "c2a63dca",
   "metadata": {},
   "outputs": [],
   "source": [
    "#One Sample T test\n",
    "H0 - u <= 50\n",
    "Ha - u >50\n",
    "\n",
    "CI - 95%\n",
    "P - 0.05\n",
    "\n",
    "#Conc -> Ho Rejected"
   ]
  },
  {
   "cell_type": "code",
   "execution_count": 39,
   "id": "e7cb1228",
   "metadata": {},
   "outputs": [
    {
     "data": {
      "text/plain": [
       "52.775"
      ]
     },
     "execution_count": 39,
     "metadata": {},
     "output_type": "execute_result"
    }
   ],
   "source": [
    "df.Post_usage_1month.mean()"
   ]
  },
  {
   "cell_type": "code",
   "execution_count": 40,
   "id": "ce8a046b",
   "metadata": {},
   "outputs": [
    {
     "data": {
      "text/plain": [
       "Ttest_1sampResult(statistic=4.140324966963024, pvalue=5.120919460716355e-05)"
      ]
     },
     "execution_count": 40,
     "metadata": {},
     "output_type": "execute_result"
    }
   ],
   "source": [
    "stats.ttest_1samp(df.Post_usage_1month,50)\n",
    "#Default p is two tailed test"
   ]
  },
  {
   "cell_type": "markdown",
   "id": "41b946e0",
   "metadata": {},
   "source": [
    "### 2.\tThe last campaign was successful in terms usage of credit card. (Hint: Comparing means for card usage of pre & post usage of campaign)"
   ]
  },
  {
   "cell_type": "code",
   "execution_count": null,
   "id": "6122ba90",
   "metadata": {},
   "outputs": [],
   "source": [
    "#Paired | Relational T test\n",
    "H0 - u = last yr\n",
    "Ha - u <> last yr\n",
    "\n",
    "CI -95%\n",
    "P -0.05\n",
    "\n",
    "#Conc -> Ha Rejected"
   ]
  },
  {
   "cell_type": "code",
   "execution_count": 42,
   "id": "f6aa7a4f",
   "metadata": {},
   "outputs": [
    {
     "name": "stdout",
     "output_type": "stream",
     "text": [
      "52.23\n",
      "52.775\n"
     ]
    }
   ],
   "source": [
    "print(df.pre_usage.mean())\n",
    "print(df.Post_usage_1month.mean())"
   ]
  },
  {
   "cell_type": "code",
   "execution_count": 43,
   "id": "2c8c7117",
   "metadata": {},
   "outputs": [
    {
     "data": {
      "text/plain": [
       "Ttest_relResult(statistic=-0.8673065458794775, pvalue=0.3868186820914985)"
      ]
     },
     "execution_count": 43,
     "metadata": {},
     "output_type": "execute_result"
    }
   ],
   "source": [
    "stats.ttest_rel(df.pre_usage,df.Post_usage_1month)"
   ]
  },
  {
   "cell_type": "markdown",
   "id": "e3e63ec9",
   "metadata": {},
   "source": [
    "### 3.\tIs there any difference between males & females in terms of credit card usage? (Hint: Comparing means of card usage for males & females)"
   ]
  },
  {
   "cell_type": "code",
   "execution_count": null,
   "id": "d0b6bd6e",
   "metadata": {},
   "outputs": [],
   "source": [
    "#Independent T test\n",
    "H0 - Not Different\n",
    "Ha - Different\n",
    "\n",
    "CI - 95%\n",
    "P - 0.05"
   ]
  },
  {
   "cell_type": "code",
   "execution_count": 57,
   "id": "f0f5197c",
   "metadata": {},
   "outputs": [
    {
     "name": "stdout",
     "output_type": "stream",
     "text": [
      "52.824175824175825\n",
      "51.73394495412844\n"
     ]
    }
   ],
   "source": [
    "m = df.loc[df.sex == 0,'pre_usage']\n",
    "f = df.loc[df.sex == 1,'pre_usage']\n",
    "\n",
    "print(m.mean())\n",
    "print(f.mean())"
   ]
  },
  {
   "cell_type": "code",
   "execution_count": 58,
   "id": "a74c4472",
   "metadata": {},
   "outputs": [
    {
     "data": {
      "text/plain": [
       "Ttest_indResult(statistic=0.7480109580953392, pvalue=0.4553410655360075)"
      ]
     },
     "execution_count": 58,
     "metadata": {},
     "output_type": "execute_result"
    }
   ],
   "source": [
    "#Pre_usage\n",
    "stats.ttest_ind(m,f)"
   ]
  },
  {
   "cell_type": "code",
   "execution_count": 59,
   "id": "130f5ed9",
   "metadata": {},
   "outputs": [
    {
     "data": {
      "text/plain": [
       "F_onewayResult(statistic=0.5595203934307058, pvalue=0.45534106553600595)"
      ]
     },
     "execution_count": 59,
     "metadata": {},
     "output_type": "execute_result"
    }
   ],
   "source": [
    "#ANNOVA\n",
    "stats.f_oneway(m,f)"
   ]
  },
  {
   "cell_type": "code",
   "execution_count": 60,
   "id": "321405da",
   "metadata": {},
   "outputs": [
    {
     "name": "stdout",
     "output_type": "stream",
     "text": [
      "50.120879120879124\n",
      "54.99082568807339\n"
     ]
    }
   ],
   "source": [
    "m = df.loc[df.sex == 0,'Post_usage_1month']\n",
    "f = df.loc[df.sex == 1,'Post_usage_1month']\n",
    "\n",
    "print(m.mean())\n",
    "print(f.mean())"
   ]
  },
  {
   "cell_type": "code",
   "execution_count": 61,
   "id": "fb7f5a73",
   "metadata": {},
   "outputs": [
    {
     "data": {
      "text/plain": [
       "Ttest_indResult(statistic=-3.7340738531536797, pvalue=0.00024625461203549315)"
      ]
     },
     "execution_count": 61,
     "metadata": {},
     "output_type": "execute_result"
    }
   ],
   "source": [
    "#Post_usage_1month\n",
    "stats.ttest_ind(m,f)"
   ]
  },
  {
   "cell_type": "code",
   "execution_count": 62,
   "id": "9996f1e6",
   "metadata": {},
   "outputs": [
    {
     "data": {
      "text/plain": [
       "F_onewayResult(statistic=13.94330754080599, pvalue=0.0002462546120354903)"
      ]
     },
     "execution_count": 62,
     "metadata": {},
     "output_type": "execute_result"
    }
   ],
   "source": [
    "#ANNOVA\n",
    "stats.f_oneway(m,f)"
   ]
  },
  {
   "cell_type": "code",
   "execution_count": 66,
   "id": "26e2be83",
   "metadata": {},
   "outputs": [
    {
     "name": "stdout",
     "output_type": "stream",
     "text": [
      "55.13296703296704\n",
      "60.48990825688068\n"
     ]
    }
   ],
   "source": [
    "m = df.loc[df.sex == 0,'post_usage_2ndmonth']\n",
    "f = df.loc[df.sex == 1,'post_usage_2ndmonth']\n",
    "\n",
    "print(m.mean())\n",
    "print(f.mean())"
   ]
  },
  {
   "cell_type": "code",
   "execution_count": 67,
   "id": "4d1171d5",
   "metadata": {},
   "outputs": [
    {
     "data": {
      "text/plain": [
       "Ttest_indResult(statistic=-3.7340738531536926, pvalue=0.0002462546120354815)"
      ]
     },
     "execution_count": 67,
     "metadata": {},
     "output_type": "execute_result"
    }
   ],
   "source": [
    "#post_usage_2ndmonth\n",
    "stats.ttest_ind(m,f)"
   ]
  },
  {
   "cell_type": "code",
   "execution_count": 68,
   "id": "715e1af4",
   "metadata": {},
   "outputs": [
    {
     "data": {
      "text/plain": [
       "F_onewayResult(statistic=13.943307540806, pvalue=0.0002462546120354903)"
      ]
     },
     "execution_count": 68,
     "metadata": {},
     "output_type": "execute_result"
    }
   ],
   "source": [
    "#ANNOVA\n",
    "stats.f_oneway(m,f)"
   ]
  },
  {
   "cell_type": "code",
   "execution_count": 69,
   "id": "3673c909",
   "metadata": {},
   "outputs": [
    {
     "name": "stdout",
     "output_type": "stream",
     "text": [
      "63.53406593406595\n",
      "62.87339449541283\n"
     ]
    }
   ],
   "source": [
    "m = df.loc[df.sex == 0,'Latest_mon_usage']\n",
    "f = df.loc[df.sex == 1,'Latest_mon_usage']\n",
    "\n",
    "print(m.mean())\n",
    "print(f.mean())"
   ]
  },
  {
   "cell_type": "code",
   "execution_count": 70,
   "id": "18801b40",
   "metadata": {},
   "outputs": [
    {
     "data": {
      "text/plain": [
       "Ttest_indResult(statistic=0.41299864929687874, pvalue=0.680054497423219)"
      ]
     },
     "execution_count": 70,
     "metadata": {},
     "output_type": "execute_result"
    }
   ],
   "source": [
    "#Latest_mon_usage\n",
    "stats.ttest_ind(m,f)"
   ]
  },
  {
   "cell_type": "code",
   "execution_count": 71,
   "id": "e6d3cecd",
   "metadata": {},
   "outputs": [
    {
     "data": {
      "text/plain": [
       "F_onewayResult(statistic=0.17056788432105366, pvalue=0.6800544974232032)"
      ]
     },
     "execution_count": 71,
     "metadata": {},
     "output_type": "execute_result"
    }
   ],
   "source": [
    "#ANNOVA\n",
    "stats.f_oneway(m,f)"
   ]
  },
  {
   "cell_type": "markdown",
   "id": "b91c176e",
   "metadata": {},
   "source": [
    "### 4.\tIs there any difference between segments of customers in terms of credit card usage? (Hint: Comparing means of card usage of different segment customers)"
   ]
  },
  {
   "cell_type": "code",
   "execution_count": null,
   "id": "406902d5",
   "metadata": {},
   "outputs": [],
   "source": [
    "H0 - Same Population\n",
    "Ha - Different Population Spend Different\n",
    "\n",
    "CI - 95%\n",
    "P - 0.05\n",
    "\n",
    "#Conc -> H0 Rejected"
   ]
  },
  {
   "cell_type": "code",
   "execution_count": 18,
   "id": "f0a45781",
   "metadata": {},
   "outputs": [
    {
     "data": {
      "text/plain": [
       "3"
      ]
     },
     "execution_count": 18,
     "metadata": {},
     "output_type": "execute_result"
    }
   ],
   "source": [
    "df.segment.nunique()\n",
    "#Cardinality > 2 so ANNOVA"
   ]
  },
  {
   "cell_type": "code",
   "execution_count": 31,
   "id": "41e4edc7",
   "metadata": {},
   "outputs": [
    {
     "name": "stdout",
     "output_type": "stream",
     "text": [
      "49.75555555555555\n",
      "56.161904761904765\n",
      "46.2\n"
     ]
    }
   ],
   "source": [
    "#Pre_Usage Data\n",
    "s1 = df.loc[df.segment == 1,'pre_usage']\n",
    "s2 = df.loc[df.segment == 2,'pre_usage']\n",
    "s3 = df.loc[df.segment == 3,'pre_usage']\n",
    "\n",
    "print(s1.mean())\n",
    "print(s2.mean())\n",
    "print(s3.mean())"
   ]
  },
  {
   "cell_type": "code",
   "execution_count": 32,
   "id": "e7b01206",
   "metadata": {},
   "outputs": [
    {
     "data": {
      "text/plain": [
       "F_onewayResult(statistic=21.28234763340855, pvalue=4.283274139124812e-09)"
      ]
     },
     "execution_count": 32,
     "metadata": {},
     "output_type": "execute_result"
    }
   ],
   "source": [
    "#Pre_Usage\n",
    "stats.f_oneway(s1,s2,s3)"
   ]
  },
  {
   "cell_type": "code",
   "execution_count": 33,
   "id": "b606c6b4",
   "metadata": {},
   "outputs": [
    {
     "name": "stdout",
     "output_type": "stream",
     "text": [
      "51.333333333333336\n",
      "56.25714285714286\n",
      "46.76\n"
     ]
    }
   ],
   "source": [
    "#Post_Usage Data\n",
    "s1 = df.loc[df.segment == 1,'Post_usage_1month']\n",
    "s2 = df.loc[df.segment == 2,'Post_usage_1month']\n",
    "s3 = df.loc[df.segment == 3,'Post_usage_1month']\n",
    "\n",
    "print(s1.mean())\n",
    "print(s2.mean())\n",
    "print(s3.mean())"
   ]
  },
  {
   "cell_type": "code",
   "execution_count": 34,
   "id": "52d05d44",
   "metadata": {},
   "outputs": [
    {
     "data": {
      "text/plain": [
       "F_onewayResult(statistic=21.274737826343454, pvalue=4.310162623571132e-09)"
      ]
     },
     "execution_count": 34,
     "metadata": {},
     "output_type": "execute_result"
    }
   ],
   "source": [
    "#Post_Usage\n",
    "stats.f_oneway(s1,s2,s3)"
   ]
  },
  {
   "cell_type": "code",
   "execution_count": 35,
   "id": "fb4742de",
   "metadata": {},
   "outputs": [
    {
     "name": "stdout",
     "output_type": "stream",
     "text": [
      "56.46666666666667\n",
      "61.88285714285709\n",
      "51.43599999999999\n"
     ]
    }
   ],
   "source": [
    "#post_usage_2ndmonth Data\n",
    "s1 = df.loc[df.segment == 1,'post_usage_2ndmonth']\n",
    "s2 = df.loc[df.segment == 2,'post_usage_2ndmonth']\n",
    "s3 = df.loc[df.segment == 3,'post_usage_2ndmonth']\n",
    "\n",
    "print(s1.mean())\n",
    "print(s2.mean())\n",
    "print(s3.mean())"
   ]
  },
  {
   "cell_type": "code",
   "execution_count": 36,
   "id": "93f2840c",
   "metadata": {},
   "outputs": [
    {
     "data": {
      "text/plain": [
       "F_onewayResult(statistic=21.274737826343472, pvalue=4.310162623571075e-09)"
      ]
     },
     "execution_count": 36,
     "metadata": {},
     "output_type": "execute_result"
    }
   ],
   "source": [
    "#post_usage_2ndmonth\n",
    "stats.f_oneway(s1,s2,s3)"
   ]
  },
  {
   "cell_type": "code",
   "execution_count": 37,
   "id": "ee615432",
   "metadata": {},
   "outputs": [
    {
     "name": "stdout",
     "output_type": "stream",
     "text": [
      "60.026666666666685\n",
      "68.08000000000003\n",
      "55.703999999999986\n"
     ]
    }
   ],
   "source": [
    "#Latest_mon_usage Data\n",
    "s1 = df.loc[df.segment == 1,'Latest_mon_usage']\n",
    "s2 = df.loc[df.segment == 2,'Latest_mon_usage']\n",
    "s3 = df.loc[df.segment == 3,'Latest_mon_usage']\n",
    "\n",
    "print(s1.mean())\n",
    "print(s2.mean())\n",
    "print(s3.mean())"
   ]
  },
  {
   "cell_type": "code",
   "execution_count": 38,
   "id": "340f4b66",
   "metadata": {},
   "outputs": [
    {
     "data": {
      "text/plain": [
       "F_onewayResult(statistic=29.279283801321778, pvalue=7.36401083352674e-12)"
      ]
     },
     "execution_count": 38,
     "metadata": {},
     "output_type": "execute_result"
    }
   ],
   "source": [
    "#Latest_mon_usage\n",
    "stats.f_oneway(s1,s2,s3)"
   ]
  },
  {
   "cell_type": "markdown",
   "id": "6e876c58",
   "metadata": {},
   "source": [
    "### 5.\tIs there any relation between region & Segment? (Hint: Finding the relationship between categorical variables region and Segment)"
   ]
  },
  {
   "cell_type": "code",
   "execution_count": null,
   "id": "6f29364f",
   "metadata": {},
   "outputs": [],
   "source": [
    "H0 - No Relation\n",
    "Ha - Relation\n",
    "\n",
    "CI - 95%\n",
    "P - 0.05\n",
    "\n",
    "#Conc -> H0 Rejected"
   ]
  },
  {
   "cell_type": "code",
   "execution_count": 16,
   "id": "38a62b27",
   "metadata": {},
   "outputs": [],
   "source": [
    "obs = pd.crosstab(df.region,df.segment)"
   ]
  },
  {
   "cell_type": "code",
   "execution_count": 17,
   "id": "d226accc",
   "metadata": {},
   "outputs": [
    {
     "data": {
      "text/plain": [
       "(16.604441649489342,\n",
       " 0.0023066300908054713,\n",
       " 4,\n",
       " array([[10.575, 24.675, 11.75 ],\n",
       "        [21.375, 49.875, 23.75 ],\n",
       "        [13.05 , 30.45 , 14.5  ]]))"
      ]
     },
     "execution_count": 17,
     "metadata": {},
     "output_type": "execute_result"
    }
   ],
   "source": [
    "stats.chi2_contingency(obs)"
   ]
  },
  {
   "cell_type": "markdown",
   "id": "14336619",
   "metadata": {},
   "source": [
    "### 6.\tIs the relationship between card usage in the latest month and pre usage of campaign? (Hint: find the correlation between latest_mon_usage and pre_usage)"
   ]
  },
  {
   "cell_type": "code",
   "execution_count": null,
   "id": "fae6155b",
   "metadata": {},
   "outputs": [],
   "source": [
    "H0 - No Relation\n",
    "Ha - Relation\n",
    "\n",
    "CI - 95%\n",
    "P - 0.05\n",
    "\n",
    "#Conc --> Ho Rejected"
   ]
  },
  {
   "cell_type": "code",
   "execution_count": 14,
   "id": "ce4f3794",
   "metadata": {},
   "outputs": [
    {
     "data": {
      "text/plain": [
       "(0.6622801251558604, 1.2767419295069158e-26)"
      ]
     },
     "execution_count": 14,
     "metadata": {},
     "output_type": "execute_result"
    }
   ],
   "source": [
    "stats.pearsonr(df.pre_usage,df.Latest_mon_usage)"
   ]
  }
 ],
 "metadata": {
  "kernelspec": {
   "display_name": "Python 3 (ipykernel)",
   "language": "python",
   "name": "python3"
  },
  "language_info": {
   "codemirror_mode": {
    "name": "ipython",
    "version": 3
   },
   "file_extension": ".py",
   "mimetype": "text/x-python",
   "name": "python",
   "nbconvert_exporter": "python",
   "pygments_lexer": "ipython3",
   "version": "3.9.7"
  }
 },
 "nbformat": 4,
 "nbformat_minor": 5
}
